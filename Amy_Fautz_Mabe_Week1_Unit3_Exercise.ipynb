{
  "nbformat": 4,
  "nbformat_minor": 0,
  "metadata": {
    "colab": {
      "provenance": [],
      "include_colab_link": true
    },
    "kernelspec": {
      "name": "python3",
      "display_name": "Python 3"
    },
    "language_info": {
      "name": "python"
    }
  },
  "cells": [
    {
      "cell_type": "markdown",
      "metadata": {
        "id": "view-in-github",
        "colab_type": "text"
      },
      "source": [
        "<a href=\"https://colab.research.google.com/github/ammabe1/data_analysis_week_1/blob/main/Amy_Fautz_Mabe_Week1_Unit3_Exercise.ipynb\" target=\"_parent\"><img src=\"https://colab.research.google.com/assets/colab-badge.svg\" alt=\"Open In Colab\"/></a>"
      ]
    },
    {
      "cell_type": "markdown",
      "source": [
        "# Week 1 Unit 3: Exercise\n",
        "\n",
        "Write a Python program that asks the user to enter:\n",
        "\n",
        "* A name\n",
        "* A start city\n",
        "* A destination city and\n",
        "* A means of transportation\n",
        "\n",
        "The program should then print that the name wants to travel from start to destination by means of transportation.\n",
        "\n",
        "Below is an example execution of the program:\n",
        "\n",
        "```\n",
        "Please enter a name: Christian\n",
        "Please enter a start: Aachen\n",
        "Please enter a destination: Berlin\n",
        "Please enter a means of transportation: Train\n",
        "Christian wants to travel from Aachen to Berlin by Train\n",
        "```"
      ],
      "metadata": {
        "id": "oUgF2sChv7cy"
      }
    },
    {
      "cell_type": "code",
      "execution_count": 4,
      "metadata": {
        "id": "f4fi3GOJvrMf",
        "colab": {
          "base_uri": "https://localhost:8080/"
        },
        "outputId": "0d8cae7a-c206-49ec-848d-aaa36be36d72"
      },
      "outputs": [
        {
          "output_type": "stream",
          "name": "stdout",
          "text": [
            "Please enter a name:Jackie\n",
            "Please enter a start:London\n",
            "Please enter a destination:Glasgow\n",
            "Please enter a means of transportation:train\n",
            "Jackie wants to travel from London to Glasgow by train.\n"
          ]
        }
      ],
      "source": [
        "name = input(\"Please enter a name:\")\n",
        "start = input(\"Please enter a start:\")\n",
        "destination = input(\"Please enter a destination:\")\n",
        "means = input(\"Please enter a means of transportation:\")\n",
        "print(name + \" wants to travel from \" + start + \" to \" + destination + \" by \" + means + \".\")"
      ]
    }
  ]
}