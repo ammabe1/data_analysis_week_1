{
  "cells": [
    {
      "cell_type": "markdown",
      "metadata": {
        "id": "view-in-github",
        "colab_type": "text"
      },
      "source": [
        "<a href=\"https://colab.research.google.com/github/ammabe1/data_analysis_week_1/blob/main/Amy_Fautz_Mabe_Week_1_Unit_1_firststeps_notebook.ipynb\" target=\"_parent\"><img src=\"https://colab.research.google.com/assets/colab-badge.svg\" alt=\"Open In Colab\"/></a>"
      ]
    },
    {
      "cell_type": "markdown",
      "id": "aa21b02c",
      "metadata": {
        "id": "aa21b02c"
      },
      "source": [
        "# Python - Introduction\n",
        "In the following Notebooks, the key concepts of computer programs are discussed.\n",
        "\n",
        "\n",
        "# Python-programs consist of statements, which are executed one by one\n",
        "What is a Python-program? More generally, what is a (computer) program? All Python programs consist of a series of\n",
        "statements or instructions. And these statements are executed one by one. (This order of execution can be changed e.g. by\n",
        "conditions, which will be discussed later.) An example of a statement is the multiplication of two numbers.\n",
        "Multiplication is represented in Python by the character `*`.\n",
        "\n",
        "If just one statement is entered, the Python program can be used as a simple calculator. In the following cell, there is\n",
        "actually a complete Python program consisting of only one statement. The result of this operation, the output, is\n",
        "written under the cell, after the cell has been executed. (The cell can be executed by clicking on it and entering\n",
        "Shift-Return or CTRL-Return).\n",
        "\n",
        "If you change the values or the operator (i.e. the `*` or the `+`), you can do simple calculations."
      ]
    },
    {
      "cell_type": "code",
      "execution_count": null,
      "id": "c631533e",
      "metadata": {
        "id": "c631533e",
        "colab": {
          "base_uri": "https://localhost:8080/"
        },
        "outputId": "c4ea9319-5035-4a5a-9af9-8b853569ee2c"
      },
      "outputs": [
        {
          "output_type": "execute_result",
          "data": {
            "text/plain": [
              "12"
            ]
          },
          "metadata": {},
          "execution_count": 1
        }
      ],
      "source": [
        "5 + 7"
      ]
    },
    {
      "cell_type": "code",
      "execution_count": null,
      "id": "81faf770",
      "metadata": {
        "id": "81faf770",
        "colab": {
          "base_uri": "https://localhost:8080/"
        },
        "outputId": "9550c73f-7705-443a-9929-25fa95cdebf1"
      },
      "outputs": [
        {
          "output_type": "execute_result",
          "data": {
            "text/plain": [
              "168"
            ]
          },
          "metadata": {},
          "execution_count": 2
        }
      ],
      "source": [
        "12 * 14"
      ]
    },
    {
      "cell_type": "markdown",
      "id": "046e08c7",
      "metadata": {
        "id": "046e08c7"
      },
      "source": [
        "# Mathematical Operators\n",
        "The `*` is called an operator in Python. The following table contains a list of frequently used arithmetic operators.\n",
        "\n",
        "| Description      | Operator | Example  | Result             |\n",
        "| ---------------- | -------- | -------- | ------------------ |\n",
        "| Addition         | +        | 2 + 3    | 5                  |\n",
        "| Subtraction      | -        | 2 - 3    | -1                 |\n",
        "| Multiplication   | *        | 2 * 3    | 6                  |\n",
        "| Division         | /        | 7 / 3    | 2.3333333333333335 |\n",
        "| Integer Division | //       | 7 // 3   | 2                  |\n",
        "| Modulo           | %        | 7 % 3    | 1                  |\n",
        "| Exponentiation   | **       | 2 ** 0.5 | 1.4142135623730951 |\n",
        "\n",
        "Python uses the operators precedence known from math. Multiplication and division are performed before addition and\n",
        "subtraction. Parenthesis can be used to influence the order of execution.\n",
        "\n",
        "Additionally, a brief explanation of integer division and modulo: In primary school, you first learned about integer\n",
        "division. If you divide 7 by 3 (and do not yet know any decimal numbers), the result is 2 with a remainder of 1. Integer\n",
        "division and modulo lead to exactly these results. The integer division of `7 // 3` results in `2`. The result of the\n",
        "modulo operation `7 % 3` is `1`, the remainder of the division. Especially the modulo operation is **frequently** used\n",
        "in programming!\n",
        "\n",
        "In comparison to a calculator, it is possible to enter bigger formulas into a cell."
      ]
    },
    {
      "cell_type": "code",
      "execution_count": null,
      "id": "17ab570d",
      "metadata": {
        "id": "17ab570d",
        "colab": {
          "base_uri": "https://localhost:8080/"
        },
        "outputId": "0bcb7a12-6f63-40a6-d9af-fac0716787a4"
      },
      "outputs": [
        {
          "output_type": "execute_result",
          "data": {
            "text/plain": [
              "35.28571428571429"
            ]
          },
          "metadata": {},
          "execution_count": 3
        }
      ],
      "source": [
        "1 + 2 * 3 * 4 * 5 - 6 / 7 % 8 ** 9 * 100"
      ]
    },
    {
      "cell_type": "code",
      "execution_count": null,
      "id": "a2b8fb37",
      "metadata": {
        "id": "a2b8fb37",
        "colab": {
          "base_uri": "https://localhost:8080/"
        },
        "outputId": "9299a716-7721-49b5-ea39-4c20388e7659"
      },
      "outputs": [
        {
          "output_type": "execute_result",
          "data": {
            "text/plain": [
              "1.00000267634068"
            ]
          },
          "metadata": {},
          "execution_count": 4
        }
      ],
      "source": [
        "1 + 2 * (3 * 4 * 5 - 6) / (7 % 8) ** 9"
      ]
    },
    {
      "cell_type": "markdown",
      "id": "a0fc7648",
      "metadata": {
        "id": "a0fc7648"
      },
      "source": [
        "## Fun Fact: Python can handle really large numbers\n",
        "Unlike the calculator and unlike many other programming languages, Python can handle really large numbers. For integer\n",
        "values (i.e. for whole numbers) there is no size constraint in Python apart from the internal memory of the machine\n",
        "Python is running on. Because of this, you can multiply or potentiate pretty large numbers without problems."
      ]
    },
    {
      "cell_type": "code",
      "execution_count": null,
      "id": "52463ddc",
      "metadata": {
        "id": "52463ddc",
        "colab": {
          "base_uri": "https://localhost:8080/"
        },
        "outputId": "821c9768-aa03-4a45-b41e-2d3ed7aaba62"
      },
      "outputs": [
        {
          "output_type": "execute_result",
          "data": {
            "text/plain": [
              "75193524187823206218262226116669016673704440711252281122217616"
            ]
          },
          "metadata": {},
          "execution_count": 5
        }
      ],
      "source": [
        "16485345486715646548961354165486 * 4561234354986145456455156446456"
      ]
    },
    {
      "cell_type": "code",
      "execution_count": null,
      "id": "e1aacbd1",
      "metadata": {
        "id": "e1aacbd1",
        "colab": {
          "base_uri": "https://localhost:8080/",
          "height": 164
        },
        "outputId": "e2a26d59-631b-4f72-a595-c10cee860029"
      },
      "outputs": [
        {
          "output_type": "error",
          "ename": "NameError",
          "evalue": "name 'sys' is not defined",
          "traceback": [
            "\u001b[0;31m---------------------------------------------------------------------------\u001b[0m",
            "\u001b[0;31mNameError\u001b[0m                                 Traceback (most recent call last)",
            "\u001b[0;32m<ipython-input-8-3a8f5adc1346>\u001b[0m in \u001b[0;36m<cell line: 2>\u001b[0;34m()\u001b[0m\n\u001b[1;32m      1\u001b[0m \u001b[0;36m2\u001b[0m \u001b[0;34m**\u001b[0m \u001b[0;36m800000\u001b[0m\u001b[0;34m\u001b[0m\u001b[0;34m\u001b[0m\u001b[0m\n\u001b[0;32m----> 2\u001b[0;31m \u001b[0msys\u001b[0m\u001b[0;34m.\u001b[0m\u001b[0mset_int_max_str_digits\u001b[0m\u001b[0;34m(\u001b[0m\u001b[0;36m1000000\u001b[0m\u001b[0;34m)\u001b[0m\u001b[0;34m\u001b[0m\u001b[0;34m\u001b[0m\u001b[0m\n\u001b[0m",
            "\u001b[0;31mNameError\u001b[0m: name 'sys' is not defined"
          ]
        }
      ],
      "source": [
        "2 ** 800000\n",
        "sys.set_int_max_str_digits(1000000)"
      ]
    },
    {
      "cell_type": "markdown",
      "source": [
        "# New Section"
      ],
      "metadata": {
        "id": "o8yqlHypgO4-"
      },
      "id": "o8yqlHypgO4-"
    },
    {
      "cell_type": "markdown",
      "source": [],
      "metadata": {
        "id": "CB0G2haugv-X"
      },
      "id": "CB0G2haugv-X"
    }
  ],
  "metadata": {
    "interpreter": {
      "hash": "ac59ebe37160ed0dfa835113d9b8498d9f09ceb179beaac4002f036b9467c963"
    },
    "kernelspec": {
      "display_name": "Python 3",
      "language": "python",
      "name": "python3"
    },
    "language_info": {
      "codemirror_mode": {
        "name": "ipython",
        "version": 3
      },
      "file_extension": ".py",
      "mimetype": "text/x-python",
      "name": "python",
      "nbconvert_exporter": "python",
      "pygments_lexer": "ipython3",
      "version": "3.7.1"
    },
    "colab": {
      "provenance": [],
      "include_colab_link": true
    }
  },
  "nbformat": 4,
  "nbformat_minor": 5
}