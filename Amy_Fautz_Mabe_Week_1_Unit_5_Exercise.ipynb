{
  "nbformat": 4,
  "nbformat_minor": 0,
  "metadata": {
    "colab": {
      "provenance": [],
      "include_colab_link": true
    },
    "kernelspec": {
      "name": "python3",
      "display_name": "Python 3"
    },
    "language_info": {
      "name": "python"
    }
  },
  "cells": [
    {
      "cell_type": "markdown",
      "metadata": {
        "id": "view-in-github",
        "colab_type": "text"
      },
      "source": [
        "<a href=\"https://colab.research.google.com/github/ammabe1/data_analysis_week_1/blob/main/Amy_Fautz_Mabe_Week_1_Unit_5_Exercise.ipynb\" target=\"_parent\"><img src=\"https://colab.research.google.com/assets/colab-badge.svg\" alt=\"Open In Colab\"/></a>"
      ]
    },
    {
      "cell_type": "markdown",
      "source": [
        "# Week 1 Unit 5: Exercise\n",
        "\n",
        "Write a Python program that asks the user to enter three integer numbers. The program should output the largest of the three numbers.\n",
        "\n",
        "Below is an example execution of the program:\n",
        "\n",
        "```\n",
        "Please enter the first number: 23\n",
        "Please enter the second number: 42\n",
        "Please enter the third number: 11\n",
        "The largest number is 42\n",
        "```"
      ],
      "metadata": {
        "id": "SgAK_OYUxfJ2"
      }
    },
    {
      "cell_type": "code",
      "execution_count": 2,
      "metadata": {
        "id": "p-HFYh-3xWmf",
        "colab": {
          "base_uri": "https://localhost:8080/"
        },
        "outputId": "436a1222-d7f4-491d-d6cd-21e5b97ddc0b"
      },
      "outputs": [
        {
          "output_type": "stream",
          "name": "stdout",
          "text": [
            "Please enter the first number:23\n",
            "Please enter the second number:42\n",
            "Please enter the thrid number:11\n",
            "The largest int is int2\n",
            "42\n"
          ]
        }
      ],
      "source": [
        "int1 = int(input(\"Please enter the first number:\"))\n",
        "int2 = int(input (\"Please enter the second number:\"))\n",
        "int3 = int(input(\"Please enter the thrid number:\"))\n",
        "\n",
        "if int1 > int2 and int1 > int3:\n",
        "  print(\"The largest int is int1\")\n",
        "  print(int1)\n",
        "elif int2 > int1 and int2 > int3:\n",
        "  print(\"The largest int is int2\")\n",
        "  print(int2)\n",
        "else:\n",
        "  print(\"The largest int is int3\")\n",
        "  print(int3)"
      ]
    },
    {
      "cell_type": "code",
      "source": [
        "int1 = int(input(\"Please enter the first number:\"))\n",
        "int2 = int(input(\"Please enter the second number:\"))\n",
        "int3 = int(input(\"Please enter the thrid number:\"))\n",
        "\n",
        "if int1 < int2 and int1 < int3:\n",
        "  print(\"The smallest int is int1\")\n",
        "  print(int1)\n",
        "elif int2 < int1 and int2 < int3:\n",
        "  print(\"The smalles int is int2\")\n",
        "  print(int2)\n",
        "else:\n",
        "  print(\"The smallest int is int3\")\n",
        "  print(int3)"
      ],
      "metadata": {
        "colab": {
          "base_uri": "https://localhost:8080/"
        },
        "id": "LRj5tWLYcN5i",
        "outputId": "19568281-4eb6-453b-9c96-8c3632381148"
      },
      "execution_count": 3,
      "outputs": [
        {
          "output_type": "stream",
          "name": "stdout",
          "text": [
            "Please enter the first number:99\n",
            "Please enter the second number:59\n",
            "Please enter the thrid number:101\n",
            "The smalles int is int2\n",
            "59\n"
          ]
        }
      ]
    }
  ]
}