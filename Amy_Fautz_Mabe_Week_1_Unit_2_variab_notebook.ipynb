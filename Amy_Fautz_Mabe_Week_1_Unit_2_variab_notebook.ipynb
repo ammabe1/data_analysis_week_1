{
  "cells": [
    {
      "cell_type": "markdown",
      "metadata": {
        "id": "view-in-github",
        "colab_type": "text"
      },
      "source": [
        "<a href=\"https://colab.research.google.com/github/ammabe1/data_analysis_week_1/blob/main/Amy_Fautz_Mabe_Week_1_Unit_2_variab_notebook.ipynb\" target=\"_parent\"><img src=\"https://colab.research.google.com/assets/colab-badge.svg\" alt=\"Open In Colab\"/></a>"
      ]
    },
    {
      "cell_type": "markdown",
      "id": "15f8ad40",
      "metadata": {
        "id": "15f8ad40"
      },
      "source": [
        "# Variables\n",
        "The understanding of variables in programming languages is a must!\n",
        "\n",
        "Variables exist in (almost) every programming language. However, the term has a different meaning in programming\n",
        "compared to mathematics. In programming, a variable is a name to which a value can be assigned. From a (overly\n",
        "simplistic) technical point of view, a variable is space in the memory that has a certain value at a point in time.\n",
        "\n",
        "## Using variables\n",
        "It is possible to put (or assign or write) a value into the variable. Vice versa, it is possible to read the currently\n",
        "stored value out of the variable. (Important: After the value of the variable is read, the value in the variable is\n",
        "still available and unchanged!)\n",
        "\n",
        "The value of a variable can be set using the assignment operator `=`. For example, the assertion `a = 2` writes the\n",
        "value `2` into the variable `a`. If in subsequent statements, variable `a` is used, the value from the variable is\n",
        "taken. For example in the following code cell, first the value `2` is written in to the variable `a`, then the value `3`\n",
        "is written into cell `b`. In the final statement, the values are read from variable `a` and `b` and multiplied.\n",
        "\n",
        "Note: In mathematics, `a = 2` is an *assertion*, which is either true or false. In programming, `a = 2` is an\n",
        "*instruction*, which describes the assignment of the value `2` to the variable `a`."
      ]
    },
    {
      "cell_type": "code",
      "execution_count": 1,
      "id": "c5aa7777",
      "metadata": {
        "colab": {
          "base_uri": "https://localhost:8080/"
        },
        "id": "c5aa7777",
        "outputId": "80cf536c-e5ed-477c-c76d-7c9c7f24193d"
      },
      "outputs": [
        {
          "output_type": "execute_result",
          "data": {
            "text/plain": [
              "6"
            ]
          },
          "metadata": {},
          "execution_count": 1
        }
      ],
      "source": [
        "a = 2\n",
        "b = 3\n",
        "a * b"
      ]
    },
    {
      "cell_type": "markdown",
      "id": "748b3356",
      "metadata": {
        "id": "748b3356"
      },
      "source": [
        "### Several assignments in a sequence\n",
        "The value of a variable can also be changed by an assignment, if assignments take place one after the other. In the\n",
        "example below, there is the variable `a`. First, the value `2` is assigned to `a`, then the value `3` is assigned. This\n",
        "second assignment deletes the `2`, the memory is just occupied with the new value `3`. The `2` is forgotten."
      ]
    },
    {
      "cell_type": "code",
      "execution_count": 2,
      "id": "5e928532",
      "metadata": {
        "colab": {
          "base_uri": "https://localhost:8080/"
        },
        "id": "5e928532",
        "outputId": "a6954f39-1422-4e0b-84da-dcb26402ff69"
      },
      "outputs": [
        {
          "output_type": "execute_result",
          "data": {
            "text/plain": [
              "3"
            ]
          },
          "metadata": {},
          "execution_count": 2
        }
      ],
      "source": [
        "a = 2\n",
        "a = 3\n",
        "a"
      ]
    },
    {
      "cell_type": "markdown",
      "id": "aae51d1b",
      "metadata": {
        "id": "aae51d1b"
      },
      "source": [
        "### Assigning multiple values to multiple variables\n",
        "Of course, it is possible to have more than one variable in a Python program. You can assign values to those variables\n",
        "as you have already seen."
      ]
    },
    {
      "cell_type": "code",
      "execution_count": 3,
      "id": "4a3a678e",
      "metadata": {
        "colab": {
          "base_uri": "https://localhost:8080/"
        },
        "id": "4a3a678e",
        "outputId": "1d65dc17-7379-4a38-a674-6b9faaef5469"
      },
      "outputs": [
        {
          "output_type": "execute_result",
          "data": {
            "text/plain": [
              "2"
            ]
          },
          "metadata": {},
          "execution_count": 3
        }
      ],
      "source": [
        "a = 1\n",
        "b = 2\n",
        "c = 3\n",
        "\n",
        "b"
      ]
    },
    {
      "cell_type": "markdown",
      "id": "a576ebf2",
      "metadata": {
        "id": "a576ebf2"
      },
      "source": [
        "### A variable on both sides of the assignment\n",
        "Assignments can look strange (or even wrong) through the eyes of mathematics. This is the case, for example, when a\n",
        "variable is on both sides of the assignment. In the example below, the variable `a` is increased by `10`. To be more\n",
        "precise: First, the value of the variable `a` is read, the `10` is added, and the result is written back into the memory\n",
        "location named `a` at the end. This happens to be the same memory location as before."
      ]
    },
    {
      "cell_type": "code",
      "execution_count": 4,
      "id": "16342e30",
      "metadata": {
        "colab": {
          "base_uri": "https://localhost:8080/"
        },
        "id": "16342e30",
        "outputId": "301cc99b-c02b-460c-9d8e-8fa3003bca26"
      },
      "outputs": [
        {
          "output_type": "execute_result",
          "data": {
            "text/plain": [
              "35"
            ]
          },
          "metadata": {},
          "execution_count": 4
        }
      ],
      "source": [
        "a = 25\n",
        "a = a + 10\n",
        "a"
      ]
    },
    {
      "cell_type": "markdown",
      "id": "b334f0e1",
      "metadata": {
        "id": "b334f0e1"
      },
      "source": [
        "### Accessing a variable in read mode\n",
        "In the examples above you have seen, that variables can be on the right side of the `=`. These variables are accessed in\n",
        "*read mode*. The value is written into the variables on the left side. This variable is accessed in *write mode*. A\n",
        "variable can only be accessed in read mode if a value has been assigned to the variable beforehand. Otherwise there is\n",
        "an error message. Execute the next cell and try to understand the error message."
      ]
    },
    {
      "cell_type": "code",
      "execution_count": 5,
      "id": "921d8382",
      "metadata": {
        "colab": {
          "base_uri": "https://localhost:8080/",
          "height": 146
        },
        "id": "921d8382",
        "outputId": "51126144-111c-4d69-aa5e-4a2355aecd64"
      },
      "outputs": [
        {
          "output_type": "error",
          "ename": "NameError",
          "evalue": "name 'unknown_variable' is not defined",
          "traceback": [
            "\u001b[0;31m---------------------------------------------------------------------------\u001b[0m",
            "\u001b[0;31mNameError\u001b[0m                                 Traceback (most recent call last)",
            "\u001b[0;32m<ipython-input-5-332231e0df14>\u001b[0m in \u001b[0;36m<cell line: 1>\u001b[0;34m()\u001b[0m\n\u001b[0;32m----> 1\u001b[0;31m \u001b[0ma\u001b[0m \u001b[0;34m=\u001b[0m \u001b[0munknown_variable\u001b[0m\u001b[0;34m\u001b[0m\u001b[0;34m\u001b[0m\u001b[0m\n\u001b[0m",
            "\u001b[0;31mNameError\u001b[0m: name 'unknown_variable' is not defined"
          ]
        }
      ],
      "source": [
        "a = unknown_variable"
      ]
    },
    {
      "cell_type": "markdown",
      "id": "5b97c8e1",
      "metadata": {
        "id": "5b97c8e1"
      },
      "source": [
        "#### Small Excursion: Cells in notebooks are connected to each other\n",
        "When a cell in a notebook has been successfully executed, the results are also known in other cells of the notebook.\n",
        "- First execute the first of the following two cells. An error message will appear.\n",
        "- Then execute the second cell and then the first cell again. This time everything should work.\n",
        "- If you want to repeat the whole process, you must reset the output of all cells in the \"Kernel\" menu at the top. Then\n",
        "  the variables will *forget* their current values."
      ]
    },
    {
      "cell_type": "code",
      "execution_count": 8,
      "id": "b5e34ade",
      "metadata": {
        "colab": {
          "base_uri": "https://localhost:8080/"
        },
        "id": "b5e34ade",
        "outputId": "46a6cbbd-ffe7-4ac9-b8b0-77fd3d0da36c"
      },
      "outputs": [
        {
          "output_type": "execute_result",
          "data": {
            "text/plain": [
              "30"
            ]
          },
          "metadata": {},
          "execution_count": 8
        }
      ],
      "source": [
        "a = new_variable + 10\n",
        "a"
      ]
    },
    {
      "cell_type": "code",
      "execution_count": 7,
      "id": "7a4bf2b5",
      "metadata": {
        "id": "7a4bf2b5"
      },
      "outputs": [],
      "source": [
        "new_variable = 20"
      ]
    },
    {
      "cell_type": "markdown",
      "id": "02da2889",
      "metadata": {
        "id": "02da2889"
      },
      "source": [
        "## Sequentialization of assignments\n",
        "Sometimes it happens that several operations are applied to one variable. These can also be sequentialized with the help\n",
        "of the construct above. This sometimes helps to make a program better readable. For example, the assignment `a = 5 * 3 * 7 + (2 - 10 * 3)`\n",
        "can be written as follows: (When sequentializing, one must be careful not to violate any bracket rule or the like)."
      ]
    },
    {
      "cell_type": "code",
      "execution_count": 9,
      "id": "6e5103f2",
      "metadata": {
        "colab": {
          "base_uri": "https://localhost:8080/"
        },
        "id": "6e5103f2",
        "outputId": "2dfbfb37-628e-4664-c1f8-ee13b6f7c705"
      },
      "outputs": [
        {
          "output_type": "execute_result",
          "data": {
            "text/plain": [
              "77"
            ]
          },
          "metadata": {},
          "execution_count": 9
        }
      ],
      "source": [
        "a = 5\n",
        "a = a * 3\n",
        "a = a * 7\n",
        "a = a + (2 - 10 * 3)\n",
        "a"
      ]
    },
    {
      "cell_type": "markdown",
      "id": "6d2977b1",
      "metadata": {
        "id": "6d2977b1"
      },
      "source": [
        "## Only one variable on the left side of an assignment\n",
        "On the right-hand side of an assignment, there can be complex expressions which themselves contain variables (e.g. a = b\n",
        "** 2 + c ** 2). On the left side, on the other hand, there can only be the one variable. If you execute the following\n",
        "construct, an error message will occur."
      ]
    },
    {
      "cell_type": "code",
      "execution_count": 10,
      "id": "f10a0b29",
      "metadata": {
        "colab": {
          "base_uri": "https://localhost:8080/",
          "height": 128
        },
        "id": "f10a0b29",
        "outputId": "d5640a35-5659-47a5-b7b5-8285d92e21e3"
      },
      "outputs": [
        {
          "output_type": "error",
          "ename": "SyntaxError",
          "evalue": "cannot assign to expression here. Maybe you meant '==' instead of '='? (<ipython-input-10-a890a062edb9>, line 4)",
          "traceback": [
            "\u001b[0;36m  File \u001b[0;32m\"<ipython-input-10-a890a062edb9>\"\u001b[0;36m, line \u001b[0;32m4\u001b[0m\n\u001b[0;31m    a ** 2 = b ** 2 + c ** 2\u001b[0m\n\u001b[0m    ^\u001b[0m\n\u001b[0;31mSyntaxError\u001b[0m\u001b[0;31m:\u001b[0m cannot assign to expression here. Maybe you meant '==' instead of '='?\n"
          ]
        }
      ],
      "source": [
        "b = 3\n",
        "c = 4\n",
        "\n",
        "a ** 2 = b ** 2 + c ** 2\n",
        "a"
      ]
    },
    {
      "cell_type": "markdown",
      "id": "e87f9649",
      "metadata": {
        "id": "e87f9649"
      },
      "source": [
        "You have certainly recognised Pythagoras' theorem in the cell above. But how do you then obtain the length of a if b and\n",
        "c are given? The calculation can be done in two steps as follows."
      ]
    },
    {
      "cell_type": "code",
      "execution_count": 11,
      "id": "26ba9785",
      "metadata": {
        "colab": {
          "base_uri": "https://localhost:8080/"
        },
        "id": "26ba9785",
        "outputId": "c34bf13e-6bba-491b-ef7f-1e85e650653a"
      },
      "outputs": [
        {
          "output_type": "execute_result",
          "data": {
            "text/plain": [
              "5.0"
            ]
          },
          "metadata": {},
          "execution_count": 11
        }
      ],
      "source": [
        "b = 3\n",
        "c = 4\n",
        "\n",
        "a = b ** 2 + c ** 2\n",
        "a = a ** 0.5\n",
        "a"
      ]
    },
    {
      "cell_type": "markdown",
      "id": "4f598f02",
      "metadata": {
        "id": "4f598f02"
      },
      "source": [
        "## Variable Names\n",
        "There are a number of rules for variable names in Python. A variable name must always begin with a letter or an\n",
        "underscore `_`. This can be followed by any number of letters, digits and underscores.\n",
        "\n",
        "Variable names may not contain special characters or spaces. Thus, for example, the following variable names are valid:"
      ]
    },
    {
      "cell_type": "code",
      "execution_count": 12,
      "id": "e11092e8",
      "metadata": {
        "id": "e11092e8"
      },
      "outputs": [],
      "source": [
        "name = \"David\"\n",
        "surname = \"Bowie\"\n",
        "account_balance = -2000\n",
        "_new_balance = 1000"
      ]
    },
    {
      "cell_type": "markdown",
      "id": "2dad590d",
      "metadata": {
        "id": "2dad590d"
      },
      "source": [
        "In contrast, the following variable names are invalid. Execute the cell and check the error message."
      ]
    },
    {
      "cell_type": "code",
      "execution_count": 14,
      "id": "82bbb90a",
      "metadata": {
        "colab": {
          "base_uri": "https://localhost:8080/",
          "height": 110
        },
        "id": "82bbb90a",
        "outputId": "cdc51558-383b-4a47-be67-f64bd1cb5a1d"
      },
      "outputs": [
        {
          "output_type": "error",
          "ename": "SyntaxError",
          "evalue": "invalid decimal literal (<ipython-input-14-9d8469bfcad7>, line 1)",
          "traceback": [
            "\u001b[0;36m  File \u001b[0;32m\"<ipython-input-14-9d8469bfcad7>\"\u001b[0;36m, line \u001b[0;32m1\u001b[0m\n\u001b[0;31m    1_konto = 1234\u001b[0m\n\u001b[0m     ^\u001b[0m\n\u001b[0;31mSyntaxError\u001b[0m\u001b[0;31m:\u001b[0m invalid decimal literal\n"
          ]
        }
      ],
      "source": [
        "1_konto = 1234\n",
        "email@fh = 'jacobs@fh-aachen.de'"
      ]
    },
    {
      "cell_type": "markdown",
      "id": "1d2340ab",
      "metadata": {
        "id": "1d2340ab"
      },
      "source": [
        "In Python, variable names are case sensitive. This means that in a Python program, `name` and `Name` represent different\n",
        "variables. This is illustrated in the following example."
      ]
    },
    {
      "cell_type": "code",
      "execution_count": 15,
      "id": "aab2d491",
      "metadata": {
        "colab": {
          "base_uri": "https://localhost:8080/",
          "height": 36
        },
        "id": "aab2d491",
        "outputId": "95462379-7cc4-4437-a1e4-d17257e74fe5"
      },
      "outputs": [
        {
          "output_type": "execute_result",
          "data": {
            "text/plain": [
              "'Joey Ramone'"
            ],
            "application/vnd.google.colaboratory.intrinsic+json": {
              "type": "string"
            }
          },
          "metadata": {},
          "execution_count": 15
        }
      ],
      "source": [
        "name = \"Joey\"\n",
        "Name = \"Ramone\"\n",
        "\n",
        "name + \" \" + Name"
      ]
    },
    {
      "cell_type": "markdown",
      "id": "38d66ef2",
      "metadata": {
        "id": "38d66ef2"
      },
      "source": [
        "Finally, there are a number of *reserved keywords* in Python that must not be used as variable names. These keywords\n",
        "have a special meaning in Python, which you will learn about in the course of the lecture. Example of reserved keywords\n",
        "are `and`, `while` or `if`. Execute the following cell and have a look at the error message."
      ]
    },
    {
      "cell_type": "code",
      "execution_count": 16,
      "id": "e92b579a",
      "metadata": {
        "colab": {
          "base_uri": "https://localhost:8080/",
          "height": 110
        },
        "id": "e92b579a",
        "outputId": "5d57fcd6-166b-4948-d6f2-e7906e211cff"
      },
      "outputs": [
        {
          "output_type": "error",
          "ename": "SyntaxError",
          "evalue": "invalid syntax (<ipython-input-16-872673c2f7ad>, line 1)",
          "traceback": [
            "\u001b[0;36m  File \u001b[0;32m\"<ipython-input-16-872673c2f7ad>\"\u001b[0;36m, line \u001b[0;32m1\u001b[0m\n\u001b[0;31m    if = 42\u001b[0m\n\u001b[0m       ^\u001b[0m\n\u001b[0;31mSyntaxError\u001b[0m\u001b[0;31m:\u001b[0m invalid syntax\n"
          ]
        }
      ],
      "source": [
        "if = 42"
      ]
    },
    {
      "cell_type": "markdown",
      "id": "c5bca011",
      "metadata": {
        "id": "c5bca011"
      },
      "source": [
        "## Conventions for Variable Names\n",
        "In the Python community, lower case is preferred for variable names. Thus,  `name` is used instead of `Name`. Variable\n",
        "names that consist of several words are separated by an underscore `_`, e.g. `account_number` or\n",
        "`minimum_account_balance`.\n",
        "\n",
        "Not every allowed variable name is a good variable name! A good programming style (not only in Python) is characterised\n",
        "by the fact that a program is easy for a human to understand.\n",
        "\n",
        "> Any fool can write code that a computer can understand. Good programmers write code that humans can understand.<br>\n",
        "> Martin Fowler, 2008.\n",
        "\n",
        "For this reason, you should use variable names that have a meaning.\n",
        "\n",
        "- `new_account_balance` is better than `nab`\n",
        "- `car_length` is better than `length`\n",
        "\n",
        "Make your programs readable by using good variable names so that you will still be able to understand it in a year's\n",
        "time."
      ]
    },
    {
      "cell_type": "code",
      "execution_count": 17,
      "id": "473c1cdd",
      "metadata": {
        "colab": {
          "base_uri": "https://localhost:8080/"
        },
        "id": "473c1cdd",
        "outputId": "36e940f4-e74f-48b1-b731-a93b6f9e802c"
      },
      "outputs": [
        {
          "output_type": "stream",
          "name": "stdout",
          "text": [
            "7\n"
          ]
        }
      ],
      "source": [
        "a = 5\n",
        "b = 7\n",
        "a = b\n",
        "print(a)"
      ]
    },
    {
      "cell_type": "code",
      "execution_count": 18,
      "id": "b35578a2",
      "metadata": {
        "colab": {
          "base_uri": "https://localhost:8080/"
        },
        "id": "b35578a2",
        "outputId": "c8648c6b-e8e2-4d5b-e49b-c34705e95649"
      },
      "outputs": [
        {
          "output_type": "stream",
          "name": "stdout",
          "text": [
            "5\n",
            "5\n"
          ]
        }
      ],
      "source": [
        "a = 5\n",
        "b = 7\n",
        "b = a\n",
        "print(a)\n",
        "print(b)"
      ]
    },
    {
      "cell_type": "markdown",
      "id": "5591e736",
      "metadata": {
        "id": "5591e736"
      },
      "source": [
        "## More Details about Variables\n",
        "\n",
        "In Python, a *variable* is created in an assignment the first time it is used. Variables do not have to be declared\n",
        "first, as in some other programming languages.  \n",
        "A *variable* can be on both the right and left side of the assignment operator at the same time."
      ]
    },
    {
      "cell_type": "code",
      "execution_count": 19,
      "id": "4717ac5e",
      "metadata": {
        "colab": {
          "base_uri": "https://localhost:8080/"
        },
        "id": "4717ac5e",
        "outputId": "00667058-0336-4b45-ab1e-072c1d37e915"
      },
      "outputs": [
        {
          "output_type": "stream",
          "name": "stdout",
          "text": [
            "11\n"
          ]
        }
      ],
      "source": [
        "a = 10\n",
        "a = a + 1\n",
        "print(a)"
      ]
    },
    {
      "cell_type": "markdown",
      "id": "62a6d69b",
      "metadata": {
        "id": "62a6d69b"
      },
      "source": [
        "In programming the statement in the middle means, that the value in the variable `a` is increased by `1`. Sometimes\n",
        "the term *Increment* is used. This construction is used quite often. Thus Python offers a short way of writing this\n",
        "statement: `a += 1`. Yes, from a mathematics point of view this looks really weird but it simply means that the value\n",
        "stored in `a` is increased by `1`."
      ]
    },
    {
      "cell_type": "code",
      "execution_count": 20,
      "id": "c216dfe6",
      "metadata": {
        "colab": {
          "base_uri": "https://localhost:8080/"
        },
        "id": "c216dfe6",
        "outputId": "b8e9a452-ac7c-4a6b-d580-1512f1775f84"
      },
      "outputs": [
        {
          "output_type": "stream",
          "name": "stdout",
          "text": [
            "2\n"
          ]
        }
      ],
      "source": [
        "a = 1\n",
        "a += 1\n",
        "print(a)"
      ]
    },
    {
      "cell_type": "markdown",
      "id": "6ea0b8f6",
      "metadata": {
        "id": "6ea0b8f6"
      },
      "source": [
        "The same short way of writing works with other operators and values:"
      ]
    },
    {
      "cell_type": "code",
      "execution_count": 21,
      "id": "8c1b9b8e",
      "metadata": {
        "colab": {
          "base_uri": "https://localhost:8080/"
        },
        "id": "8c1b9b8e",
        "outputId": "e88f2e10-f826-418e-f2ed-2390ad797db7"
      },
      "outputs": [
        {
          "output_type": "stream",
          "name": "stdout",
          "text": [
            "-80\n"
          ]
        }
      ],
      "source": [
        "a = 10\n",
        "a *= 2\n",
        "a -= 100\n",
        "print(a)"
      ]
    },
    {
      "cell_type": "markdown",
      "id": "842d17ce",
      "metadata": {
        "id": "842d17ce"
      },
      "source": [
        "# Exercise\n",
        "Calculate the volume and surface area of a cube (side lengths a, b, c equal) or a cuboid (side lengths a, b, c\n",
        "different). Proceed as follows:\n",
        "- Define reasonable names for the variables representing the side length of the cube and assign values to them.\n",
        "- Calculate the area of the cube and assign the result to the variable cube_area.\n",
        "- Calculate the volume of the cube and assign the result to the variable cube_volume.\n",
        "- Output the result of the calculation using the following statements: `print(cube_area)` and `print(cube_volume)`\n",
        "\n",
        "Repeat these steps for the cuboid."
      ]
    },
    {
      "cell_type": "code",
      "execution_count": 22,
      "id": "f0e63c53",
      "metadata": {
        "colab": {
          "base_uri": "https://localhost:8080/"
        },
        "id": "f0e63c53",
        "outputId": "16ca9a51-a54a-4a69-883c-375646fb8658"
      },
      "outputs": [
        {
          "output_type": "stream",
          "name": "stdout",
          "text": [
            "210\n",
            "214\n"
          ]
        }
      ],
      "source": [
        "length = 5\n",
        "height = 6\n",
        "width = 7\n",
        "cube_volume= length * height * width\n",
        "print(cube_volume)\n",
        "cube_area = 2 * (length * height + length * width + height * width)\n",
        "print(cube_area)"
      ]
    }
  ],
  "metadata": {
    "interpreter": {
      "hash": "ac59ebe37160ed0dfa835113d9b8498d9f09ceb179beaac4002f036b9467c963"
    },
    "kernelspec": {
      "display_name": "Python 3",
      "language": "python",
      "name": "python3"
    },
    "language_info": {
      "codemirror_mode": {
        "name": "ipython",
        "version": 3
      },
      "file_extension": ".py",
      "mimetype": "text/x-python",
      "name": "python",
      "nbconvert_exporter": "python",
      "pygments_lexer": "ipython3",
      "version": "3.7.1"
    },
    "colab": {
      "provenance": [],
      "include_colab_link": true
    }
  },
  "nbformat": 4,
  "nbformat_minor": 5
}