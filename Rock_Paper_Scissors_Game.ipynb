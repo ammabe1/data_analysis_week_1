{
  "nbformat": 4,
  "nbformat_minor": 0,
  "metadata": {
    "colab": {
      "provenance": [],
      "authorship_tag": "ABX9TyOvHAOH+gnD4bWnWRoksKzz",
      "include_colab_link": true
    },
    "kernelspec": {
      "name": "python3",
      "display_name": "Python 3"
    },
    "language_info": {
      "name": "python"
    }
  },
  "cells": [
    {
      "cell_type": "markdown",
      "metadata": {
        "id": "view-in-github",
        "colab_type": "text"
      },
      "source": [
        "<a href=\"https://colab.research.google.com/github/ammabe1/data_analysis_week_1/blob/main/Rock_Paper_Scissors_Game.ipynb\" target=\"_parent\"><img src=\"https://colab.research.google.com/assets/colab-badge.svg\" alt=\"Open In Colab\"/></a>"
      ]
    },
    {
      "cell_type": "code",
      "execution_count": null,
      "metadata": {
        "id": "sHDA5Bs7T4c5"
      },
      "outputs": [],
      "source": []
    },
    {
      "cell_type": "code",
      "source": [
        "player_1 = input(\"player_1 choose rock paper or scissors\")\n",
        "player_2 = input(\"player_2 choose rock paper or scissors\")\n",
        "\n",
        "choices = [\"paper\",\"rock\",\"scissors\"]\n",
        "\n",
        "if player_1 == \"paper\" and player_2 == \"rock\":\n",
        "    print(\"player 1 wins😄\")\n",
        "elif player_1 == \"rock\" and player_2 == \"paper\":\n",
        "    print(\"player 2 wins😄\")\n",
        "elif player_1 == \"scissors\" and player_2 == \"paper\":\n",
        "    print(\"player 1 wins😄\")\n",
        "elif player_1 == \"paper\" and player_2 == \"scissors\":\n",
        "    print(\"player 2 wins😄\")\n",
        "elif player_1 == \"rock\" and player_2 == \"scissors\":\n",
        "    print(\"player 1 wins😄\")\n",
        "elif player_1 == \"scissors\" and player_2 == \"rock\":\n",
        "    print(\"player 2 wins😄\")\n",
        "else:\n",
        "    print(\"Oh, no it's a tie 😏 Please play again!\")"
      ],
      "metadata": {
        "colab": {
          "base_uri": "https://localhost:8080/"
        },
        "id": "tyfCY660T-1M",
        "outputId": "70346576-d9e4-4d12-cc02-bbcf59bcaf44"
      },
      "execution_count": null,
      "outputs": [
        {
          "output_type": "stream",
          "name": "stdout",
          "text": [
            "player_1 choose rock paper or scissorsrock\n",
            "player_2 choose rock paper or scissorsscissors\n",
            "player 1 wins\n"
          ]
        }
      ]
    }
  ]
}