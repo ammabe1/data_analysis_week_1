{
  "cells": [
    {
      "cell_type": "markdown",
      "metadata": {
        "id": "view-in-github",
        "colab_type": "text"
      },
      "source": [
        "<a href=\"https://colab.research.google.com/github/ammabe1/data_analysis_week_1/blob/main/Amy_Fautz_Mabe_Week_1_Unit_3_simpinp_notebook.ipynb\" target=\"_parent\"><img src=\"https://colab.research.google.com/assets/colab-badge.svg\" alt=\"Open In Colab\"/></a>"
      ]
    },
    {
      "cell_type": "markdown",
      "metadata": {
        "id": "vD4hlyk4tXG1"
      },
      "source": [
        "# Inputs and outputs\n",
        "## Outputs\n",
        "\n",
        "When a cell of a Jupyter Notebook is executed, the return value (the result) of the last statement is printed below the cell. However,\n",
        "if the last statement does not have a return value (e.g. assigning a value to a variable does not have one), there will be no\n",
        "output.\n",
        "\n",
        "Thus, working with this kind of output has two drawbacks: First, only the result of the last statement is given as output. Second, if the last statement does not have a return value, there is no output at all!\n",
        "\n",
        "Using the Python function `print()`, it is possible overcome these drawbacks. The argument within the paranthesis will be printed as output below the cell. (There will be a complete chapter about functions. Just briefly: A function consists of a function name (here *print*) followed by a pair of paranthesis. Within these paranthesis there can be one or several arguments, which are separated by commas.)"
      ]
    },
    {
      "cell_type": "code",
      "execution_count": 1,
      "metadata": {
        "colab": {
          "base_uri": "https://localhost:8080/"
        },
        "id": "bWrLzufitXG4",
        "outputId": "56ff4fdf-aaef-4de5-cc53-0f2b7917cc60"
      },
      "outputs": [
        {
          "output_type": "stream",
          "name": "stdout",
          "text": [
            "Hello\n",
            "42\n",
            "Joey\n"
          ]
        }
      ],
      "source": [
        "print(\"Hello\")\n",
        "print(42)\n",
        "\n",
        "name = \"Joey\"\n",
        "print(name)"
      ]
    },
    {
      "cell_type": "markdown",
      "metadata": {
        "id": "GCKvAW7QtXG6"
      },
      "source": [
        "The desired output is passed to the `print()` function as an argument. It is also possible to provide multiple parameters to\n",
        "the `print` function. In this case the parameters must be separated by a comma (`,`)."
      ]
    },
    {
      "cell_type": "code",
      "execution_count": 2,
      "metadata": {
        "colab": {
          "base_uri": "https://localhost:8080/"
        },
        "id": "7T5RZ8_qtXG6",
        "outputId": "1084bd5e-0c44-4d8b-d2c9-99a8ed712905"
      },
      "outputs": [
        {
          "output_type": "stream",
          "name": "stdout",
          "text": [
            "Joey Ramone\n"
          ]
        }
      ],
      "source": [
        "name = \"Joey\"\n",
        "lastname = \"Ramone\"\n",
        "\n",
        "print(name, lastname)"
      ]
    },
    {
      "cell_type": "code",
      "source": [
        "name = \"Amy\"\n",
        "lastname = \"Mabe\"\n",
        "print(name, lastname, \"was here\")"
      ],
      "metadata": {
        "colab": {
          "base_uri": "https://localhost:8080/"
        },
        "id": "7XbKz8Dztujd",
        "outputId": "1483ed27-61a7-429a-bca0-e217559fd4d8"
      },
      "execution_count": 3,
      "outputs": [
        {
          "output_type": "stream",
          "name": "stdout",
          "text": [
            "Amy Mabe was here\n"
          ]
        }
      ]
    },
    {
      "cell_type": "markdown",
      "metadata": {
        "id": "Ef0BbB8ZtXG7"
      },
      "source": [
        "# Inputs\n",
        "Remember the exercise to calculate the surface area and volume of a cuboid? Calculating the values for a new cuboid has\n",
        "been quite tedious so far.\n",
        "\n",
        "Each time you need to:\n",
        "- Go to the cell of the notebook and change the Python program\n",
        "- Execute the cell again\n",
        "\n",
        "It would be much better if the program asked for the data to be processed as *input*. The Python program should be\n",
        "independent of specific values. The specific values should be provided as input to the program. This is the classic\n",
        "structure of a program according to the IPO principle: input → processing → output"
      ]
    },
    {
      "cell_type": "markdown",
      "metadata": {
        "id": "g8fF0-ZFtXG8"
      },
      "source": [
        "### The `input()` function\n",
        "\n",
        "The `input()` function can be used to read input from the user. A typical call of the function `input()` is:\n",
        "\n",
        "```python\n",
        "i = input(\"Please enter a number:\")\n",
        "print(i)\n",
        "```"
      ]
    },
    {
      "cell_type": "code",
      "execution_count": 4,
      "metadata": {
        "colab": {
          "base_uri": "https://localhost:8080/"
        },
        "id": "tgcxJamTtXG8",
        "outputId": "891a0dd4-b325-4e2b-e2f7-4c0ed2d3516d"
      },
      "outputs": [
        {
          "output_type": "stream",
          "name": "stdout",
          "text": [
            "Please insert a number: 3\n",
            "3\n"
          ]
        }
      ],
      "source": [
        "i = input(\"Please insert a number: \")\n",
        "print(i)"
      ]
    },
    {
      "cell_type": "markdown",
      "metadata": {
        "id": "3Fw4WMo9tXG9"
      },
      "source": [
        "The function `input()` first outputs the given argument *(\"Please ...\")*. After that, the function waits for an input\n",
        "from the user. The user enters a value and finishes the input with the return key (enter key). The entered value is\n",
        "assigned to the variable `i`."
      ]
    },
    {
      "cell_type": "markdown",
      "metadata": {
        "id": "8j4dkgI-tXG-"
      },
      "source": [
        "### Exercise\n",
        "Write a program that uses `input()` to retrieve values for first name, last name, and email address. Output the entered\n",
        "values afterwards."
      ]
    },
    {
      "cell_type": "code",
      "execution_count": 5,
      "metadata": {
        "colab": {
          "base_uri": "https://localhost:8080/"
        },
        "id": "IKUk5fNgtXG-",
        "outputId": "46d9805f-a133-4f2b-f86f-c36a9bbb037b"
      },
      "outputs": [
        {
          "output_type": "stream",
          "name": "stdout",
          "text": [
            "Please enter your first name here:Amy\n",
            "Please enter your last name here:Mabe\n",
            "Please enter your email address here:amfautz@gmail.com\n",
            "Amy Mabe amfautz@gmail.com\n"
          ]
        }
      ],
      "source": [
        "firstname = input(\"Please enter your first name here:\")\n",
        "lastname = input(\"Please enter your last name here:\")\n",
        "email = input(\"Please enter your email address here:\")\n",
        "\n",
        "print(firstname, lastname, email)"
      ]
    },
    {
      "cell_type": "markdown",
      "metadata": {
        "id": "zKOiFvPBtXG_"
      },
      "source": [
        "### Exercise 2\n",
        "\n",
        "Write a program that uses `input()` to accept two numbers from a user and output the sum and the product of both numbers.\n",
        "\n",
        "Expected form of the output:\n",
        "The sum is 30.\n",
        "The product is 225."
      ]
    },
    {
      "cell_type": "code",
      "execution_count": 8,
      "metadata": {
        "colab": {
          "base_uri": "https://localhost:8080/"
        },
        "id": "xQniapz2tXG_",
        "outputId": "d06b6632-f91e-4e58-d41c-6911223fb5f5"
      },
      "outputs": [
        {
          "output_type": "stream",
          "name": "stdout",
          "text": [
            "Please enter a number:15\n",
            "Please enter a number:15\n",
            "The sum is 30\n",
            "The product is 225\n"
          ]
        }
      ],
      "source": [
        "a = int(input(\"Please enter a number:\"))\n",
        "b = int(input(\"Please enter a number:\"))\n",
        "\n",
        "print(\"The sum is\", a+b)\n",
        "print(\"The product is\", a*b)"
      ]
    },
    {
      "cell_type": "code",
      "source": [
        "a = int(input(\"Please enter a number:\"))\n",
        "b = int(input(\"Please enter a number:\"))\n",
        "\n",
        "print(\"The sum is\", a+b)\n",
        "print(\"The product is\", a*b)"
      ],
      "metadata": {
        "colab": {
          "base_uri": "https://localhost:8080/"
        },
        "id": "JhwNTWUswy_v",
        "outputId": "c60e66da-befc-43c5-df86-f0032dba445d"
      },
      "execution_count": 9,
      "outputs": [
        {
          "output_type": "stream",
          "name": "stdout",
          "text": [
            "Please enter a number:12\n",
            "Please enter a number:18\n",
            "The sum is 30\n",
            "The product is 216\n"
          ]
        }
      ]
    }
  ],
  "metadata": {
    "file_extension": ".py",
    "interpreter": {
      "hash": "ac59ebe37160ed0dfa835113d9b8498d9f09ceb179beaac4002f036b9467c963"
    },
    "kernelspec": {
      "display_name": "Python 3",
      "language": "python",
      "name": "python3"
    },
    "language_info": {
      "codemirror_mode": {
        "name": "ipython",
        "version": 3
      },
      "file_extension": ".py",
      "mimetype": "text/x-python",
      "name": "python",
      "nbconvert_exporter": "python",
      "pygments_lexer": "ipython3",
      "version": "3.9.7"
    },
    "mimetype": "text/x-python",
    "name": "python",
    "npconvert_exporter": "python",
    "pygments_lexer": "ipython3",
    "version": 3,
    "colab": {
      "provenance": [],
      "include_colab_link": true
    }
  },
  "nbformat": 4,
  "nbformat_minor": 0
}