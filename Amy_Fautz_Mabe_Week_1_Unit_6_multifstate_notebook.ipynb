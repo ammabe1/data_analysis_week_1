{
  "cells": [
    {
      "cell_type": "markdown",
      "metadata": {
        "id": "view-in-github",
        "colab_type": "text"
      },
      "source": [
        "<a href=\"https://colab.research.google.com/github/ammabe1/data_analysis_week_1/blob/main/Amy_Fautz_Mabe_Week_1_Unit_6_multifstate_notebook.ipynb\" target=\"_parent\"><img src=\"https://colab.research.google.com/assets/colab-badge.svg\" alt=\"Open In Colab\"/></a>"
      ]
    },
    {
      "cell_type": "markdown",
      "metadata": {
        "id": "ZhdUlINphh6v"
      },
      "source": [
        "# Conditional statements - part 2\n",
        "# Multiple conditions\n",
        "\n",
        "What happens, if you want have a split with more than two alternatives? For example if the variable `name` contains the value *Peter* or *Paul* or *Mary*? A condition can only have two outcomes namely `True` and `False`. However,\n",
        "it is also possible to check several conditions one after the other. The syntax for this is:\n",
        "\n",
        "```python\n",
        "if condition_1:\n",
        "    statement_1\n",
        "elif condition_2:\n",
        "    statement_2\n",
        "elif condition_3:\n",
        "    statement_3\n",
        "else:\n",
        "    statement_4\n",
        "statement_5\n",
        "```\n",
        "\n",
        "In this case, the conditions are checked in order. For the first true condition the corresponding code block (the\n",
        "indented statements) is executed. The code block after the `else` is executed only if none of the condition was true.\n",
        "Once a code block has been executed, no further conditions are checked.\n",
        "\n",
        "When using multiple conditions their order can be\n",
        "crucial. This is illustrated in the following examples."
      ]
    },
    {
      "cell_type": "code",
      "execution_count": 1,
      "metadata": {
        "colab": {
          "base_uri": "https://localhost:8080/"
        },
        "id": "FfRXA8z8hh6y",
        "outputId": "ffb6fe49-ea91-46a1-8a94-8bec72d182d5"
      },
      "outputs": [
        {
          "output_type": "stream",
          "name": "stdout",
          "text": [
            "How many degrees (Celsius) is it? 23\n",
            "warm\n"
          ]
        }
      ],
      "source": [
        "temperature = int(input(\"How many degrees (Celsius) is it? \"))\n",
        "\n",
        "if temperature > 30:\n",
        "    print(\"hot\")\n",
        "elif temperature > 20:\n",
        "    print(\"warm\")\n",
        "else:\n",
        "    print(\"cold\")"
      ]
    },
    {
      "cell_type": "code",
      "execution_count": 2,
      "metadata": {
        "colab": {
          "base_uri": "https://localhost:8080/"
        },
        "id": "cpo8YR9zhh6z",
        "outputId": "7dc7368d-3f54-443a-c3f1-ecfd52f4685e"
      },
      "outputs": [
        {
          "output_type": "stream",
          "name": "stdout",
          "text": [
            "How many degrees (Celsius) is it? 21\n",
            "warm\n"
          ]
        }
      ],
      "source": [
        "temperature = int(input(\"How many degrees (Celsius) is it? \"))\n",
        "\n",
        "if temperature > 20:\n",
        "    print(\"warm\")\n",
        "elif temperature > 30:\n",
        "    print(\"hot\")\n",
        "else:\n",
        "    print(\"cold\")"
      ]
    },
    {
      "cell_type": "markdown",
      "metadata": {
        "id": "llZ1b7V6hh60"
      },
      "source": [
        "# Nesting\n",
        "Conditional statements can be nested. This means that an `if` statement itself can contain one or several `if`\n",
        "statements. Sometimes this is needed to check several conditions one after the other."
      ]
    },
    {
      "cell_type": "code",
      "execution_count": 29,
      "metadata": {
        "colab": {
          "base_uri": "https://localhost:8080/"
        },
        "id": "ofpxr4q3hh61",
        "outputId": "33960b5d-04fa-453b-bf0c-98eb08e3a742"
      },
      "outputs": [
        {
          "output_type": "stream",
          "name": "stdout",
          "text": [
            "Please insert the current temperature: 21\n",
            "It's warm\n",
            "Warm & raining: summer in Aachen\n",
            "Warm, raining, no wind at all\n"
          ]
        }
      ],
      "source": [
        "temperature = int(input(\"Please insert the current temperature: \"))\n",
        "rain = True\n",
        "wind = False\n",
        "\n",
        "if temperature > 20:\n",
        "    print(\"It's warm\")\n",
        "    if rain:\n",
        "        print(\"Warm & raining: summer in Aachen\")\n",
        "        if wind:\n",
        "            print(\"It's warm, it rains and it's windy!\")\n",
        "        else:\n",
        "            print(\"Warm, raining, no wind at all\")\n",
        "    else:\n",
        "        print(\"Warm and dry, beautiful!\")\n",
        "        if wind:\n",
        "            print(\"Warm, dry and windy: Good weather for sailing\")\n",
        "        else:\n",
        "            print(\"Warm, dry, windless: Just lie in the sun\")\n",
        "else:\n",
        "    print(\"If it's cold, I don't care about rain and wind\")"
      ]
    },
    {
      "cell_type": "code",
      "source": [
        "temperature = int(input(\"Please insert the current temperature:\"))\n",
        "\n",
        "if temperature > 20:\n",
        "  rain = input(\"Is it raning?:\")\n",
        "  if rain == \"y\" or \"yes\":\n",
        "    rain = True\n",
        "  else:\n",
        "    rain = False\n",
        "  wind = input(\"Is it windy?:\")\n",
        "  if wind == \"y\" or \"yes\":\n",
        "    wind = True\n",
        "  else:\n",
        "    wind = False\n",
        "if temperature>20:\n",
        "  print(\"It's warm\")\n",
        "  if rain:\n",
        "    print(\"Warm & raining: summer in Louisville\")\n",
        "    if wind:\n",
        "      print(\"It's warm, it rains and it's windy!\")\n",
        "    else:\n",
        "      print(\"Warm, raining, no wind at all\")\n",
        "else:\n",
        "  print(\"If it's cold, who cares about rain and wind.\")"
      ],
      "metadata": {
        "colab": {
          "base_uri": "https://localhost:8080/"
        },
        "id": "3eNJLdFgmB-u",
        "outputId": "eaf9c206-7020-40c0-8d6a-aa0789c9c90a"
      },
      "execution_count": 28,
      "outputs": [
        {
          "output_type": "stream",
          "name": "stdout",
          "text": [
            "Please insert the current temperature:23\n",
            "Is it raning?:y\n",
            "Is it windy?:y\n",
            "It's warm\n",
            "Warm & raining: summer in Louisville\n",
            "It's warm, it rains and it's windy!\n"
          ]
        }
      ]
    },
    {
      "cell_type": "markdown",
      "metadata": {
        "id": "zK4zVUh7hh61"
      },
      "source": [
        "# Exercise 2\n",
        "Write a program that simulates the input of an ATM. For this the following steps need to be carried out:\n",
        "- First ask for the PIN.\n",
        "- Compare the input with a constant you have chosen.\n",
        "- The following steps will be executed only if the correct PIN is entered:\n",
        "    - Ask how much money should be withdrawn.\n",
        "    - Compare the amount with a fixed account balance.\n",
        "    - If the account is covered, display a corresponding output (\"Money is issued\") and the new account balance.\n",
        "    - If the account is not covered, display an appropriate error message.\n",
        "- If the PIN was entered incorrectly, issue an error message."
      ]
    },
    {
      "cell_type": "code",
      "execution_count": 17,
      "metadata": {
        "colab": {
          "base_uri": "https://localhost:8080/"
        },
        "id": "fy8D-EuRhh62",
        "outputId": "dbc0718e-cb5c-4db0-a160-ac272b22a1f8"
      },
      "outputs": [
        {
          "output_type": "stream",
          "name": "stdout",
          "text": [
            "Please enter PIN number:1234\n",
            "Please enter withdraw amount (must be in mulitples >= to 5):65\n",
            "Amount issued\n",
            "65.0\n",
            "Current balance\n",
            "335.0\n"
          ]
        }
      ],
      "source": [
        "PIN = int(input(\"Please enter PIN number:\"))\n",
        "if PIN == 1234:\n",
        "  withdrawn_amount = float(input(\"Please enter withdraw amount (must be in mulitples >= to 5):\"))\n",
        "  account_balance = 400.00\n",
        "  if withdrawn_amount <= account_balance:\n",
        "    print(\"Amount issued\")\n",
        "    print(withdrawn_amount)\n",
        "    new_balance = account_balance - withdrawn_amount\n",
        "    print(\"Current balance\")\n",
        "    print(new_balance)\n",
        "  else:\n",
        "    print(\"Insufficient funds\")\n",
        "    print(\"Please enter a smaller amount\")\n",
        "else:\n",
        "  print(\"Incorrect PIN\")"
      ]
    }
  ],
  "metadata": {
    "file_extension": ".py",
    "interpreter": {
      "hash": "ac59ebe37160ed0dfa835113d9b8498d9f09ceb179beaac4002f036b9467c963"
    },
    "kernelspec": {
      "display_name": "Python 3",
      "language": "python",
      "name": "python3"
    },
    "language_info": {
      "codemirror_mode": {
        "name": "ipython",
        "version": 3
      },
      "file_extension": ".py",
      "mimetype": "text/x-python",
      "name": "python",
      "nbconvert_exporter": "python",
      "pygments_lexer": "ipython3",
      "version": "3.7.7"
    },
    "mimetype": "text/x-python",
    "name": "python",
    "npconvert_exporter": "python",
    "pygments_lexer": "ipython3",
    "version": 3,
    "colab": {
      "provenance": [],
      "include_colab_link": true
    }
  },
  "nbformat": 4,
  "nbformat_minor": 0
}